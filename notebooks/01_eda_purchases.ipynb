{
 "cells": [
  {
   "cell_type": "markdown",
   "id": "75503ac5-895a-4bf5-b850-d0b980bef93b",
   "metadata": {},
   "source": [
    "# data exploration - user behaviour\n",
    "\n",
    "we have three data files describing\n",
    "\n",
    "- user behaviour of non-amazon users\n",
    "- user behaviour of amazon users\n",
    "- amazon prime day purchases of (all) users\n",
    "\n",
    "we will start with investigation and exploration of the data sets before we move on to analysis and statistical modelling. \n",
    "this notebook describes analysis of the second file, that of the behviour of the amazoneusers\n"
   ]
  },
  {
   "cell_type": "code",
   "execution_count": 2,
   "id": "58cbfc50-7c4c-478d-b774-fc0cd0168397",
   "metadata": {},
   "outputs": [],
   "source": [
    "import pandas as pd\n",
    "import numpy as np"
   ]
  },
  {
   "cell_type": "code",
   "execution_count": 3,
   "id": "3a261548-d5e0-477b-b02a-d147d11ca87e",
   "metadata": {},
   "outputs": [],
   "source": [
    "BEHAVIOR_NON_FILEPATH='../data/prime_day_purchases_2024.csv'"
   ]
  },
  {
   "cell_type": "code",
   "execution_count": 5,
   "id": "c0864dd5-bae7-484f-aa1d-efb62ef9c5c2",
   "metadata": {},
   "outputs": [],
   "source": [
    "column_data_types_dict={\n",
    "    \"user_id\"        : 'category',\n",
    "    # \"order_datetime\" : 'category', # use parse_dates\n",
    "    \"unit_price\"     : np.float64,\n",
    "    \"asin\"           : 'category',\n",
    "    \"quantity\"       : np.int32,\n",
    "    \"order_status\"   : 'category',\n",
    "    \"product_name\"   : 'category',\n",
    "    \"category_1\"     : 'category',\n",
    "    \"category_2\"     : 'category',\n",
    "    \"brand\"          : 'category',\n",
    "    \"age_group\"      : 'category',\n",
    "    \"gender\"         : 'category'\n",
    "}\n",
    "\n",
    "df = (\n",
    "    pd.read_csv(\n",
    "        BEHAVIOR_NON_FILEPATH,\n",
    "        parse_dates=['order_datetime'],\n",
    "        dtype=column_data_types_dict\n",
    "    )\n",
    ")"
   ]
  },
  {
   "cell_type": "code",
   "execution_count": 6,
   "id": "9c87e067-5258-406a-8ddd-e6fa1b5db7a0",
   "metadata": {},
   "outputs": [
    {
     "name": "stdout",
     "output_type": "stream",
     "text": [
      "<class 'pandas.core.frame.DataFrame'>\n",
      "RangeIndex: 8707 entries, 0 to 8706\n",
      "Data columns (total 12 columns):\n",
      " #   Column          Non-Null Count  Dtype         \n",
      "---  ------          --------------  -----         \n",
      " 0   user_id         8707 non-null   category      \n",
      " 1   order_datetime  8707 non-null   datetime64[ns]\n",
      " 2   unit_price      8707 non-null   float64       \n",
      " 3   asin            8707 non-null   category      \n",
      " 4   quantity        8707 non-null   int32         \n",
      " 5   order_status    8707 non-null   category      \n",
      " 6   product_name    8707 non-null   category      \n",
      " 7   category_1      5658 non-null   category      \n",
      " 8   category_2      5553 non-null   category      \n",
      " 9   brand           5408 non-null   category      \n",
      " 10  age_group       8707 non-null   category      \n",
      " 11  gender          8707 non-null   category      \n",
      "dtypes: category(9), datetime64[ns](1), float64(1), int32(1)\n",
      "memory usage: 1.1 MB\n"
     ]
    }
   ],
   "source": [
    "df.info()"
   ]
  },
  {
   "cell_type": "code",
   "execution_count": 7,
   "id": "51d70bbf-80bf-42ec-8699-296de75e5385",
   "metadata": {},
   "outputs": [
    {
     "data": {
      "text/plain": [
       "['25_34', '35_44', '18_24', '45_54', '55_64', 'over_64', '16_17']\n",
       "Categories (7, object): ['16_17', '18_24', '25_34', '35_44', '45_54', '55_64', 'over_64']"
      ]
     },
     "execution_count": 7,
     "metadata": {},
     "output_type": "execute_result"
    }
   ],
   "source": [
    "df['age_group'].unique()"
   ]
  },
  {
   "cell_type": "code",
   "execution_count": 8,
   "id": "c870c1dc-7abb-45b3-82bc-442bc3f6060c",
   "metadata": {},
   "outputs": [
    {
     "data": {
      "text/plain": [
       "age_group\n",
       "35_44      2994\n",
       "25_34      2452\n",
       "45_54      1781\n",
       "18_24       741\n",
       "55_64       482\n",
       "over_64     254\n",
       "16_17         3\n",
       "Name: count, dtype: int64"
      ]
     },
     "execution_count": 8,
     "metadata": {},
     "output_type": "execute_result"
    }
   ],
   "source": [
    "df['age_group'].value_counts()"
   ]
  },
  {
   "cell_type": "code",
   "execution_count": 9,
   "id": "f64d0dc8-2f18-42ea-907e-56c36df131ff",
   "metadata": {},
   "outputs": [
    {
     "data": {
      "text/plain": [
       "['B010AWPVAG', 'B00GOAPG18', 'B01IAEMYKG', 'B097CG18L9', 'B017GYO3I2', ..., 'B073S4TP58', 'B07KYHP92Q', 'B07ZP461TY', 'B0B3FZ6PTL', 'B08PL1P53C']\n",
       "Length: 7955\n",
       "Categories (7955, object): ['0061246476', '0062024051', '0062073486', '0062075535', ..., 'B0DJBXYL5T', 'B0DJFYD2KM', 'B0DJHSLPPL', 'B0DJMT7R9G']"
      ]
     },
     "execution_count": 9,
     "metadata": {},
     "output_type": "execute_result"
    }
   ],
   "source": [
    "df['asin'].unique()"
   ]
  },
  {
   "cell_type": "code",
   "execution_count": 44,
   "id": "42dd5acd-e756-4235-84fa-230024771085",
   "metadata": {},
   "outputs": [
    {
     "data": {
      "text/plain": [
       "gender\n",
       "female        343788\n",
       "male          321002\n",
       "other          65285\n",
       "non_binary     13338\n",
       "Name: count, dtype: int64"
      ]
     },
     "execution_count": 44,
     "metadata": {},
     "output_type": "execute_result"
    }
   ],
   "source": [
    "df['gender'].unique()\n",
    "df['gender'].value_counts()"
   ]
  },
  {
   "cell_type": "code",
   "execution_count": 14,
   "id": "f7c26215-79ae-4e2e-8f87-4ae422851712",
   "metadata": {},
   "outputs": [
    {
     "data": {
      "text/plain": [
       "order_status\n",
       "Closed                     8395\n",
       "Authorized                  299\n",
       "On Hold Pending Payment      11\n",
       "Payment Confirmed             2\n",
       "Name: count, dtype: int64"
      ]
     },
     "execution_count": 14,
     "metadata": {},
     "output_type": "execute_result"
    }
   ],
   "source": [
    "df['order_status'].value_counts()"
   ]
  },
  {
   "cell_type": "code",
   "execution_count": 11,
   "id": "9b4e41a9-01f2-46e1-9a7f-74c39bba55c5",
   "metadata": {},
   "outputs": [
    {
     "name": "stdout",
     "output_type": "stream",
     "text": [
      "0 10\n"
     ]
    }
   ],
   "source": [
    "print(df['quantity'].min(),df['quantity'].max())"
   ]
  },
  {
   "cell_type": "code",
   "execution_count": 12,
   "id": "73c4255c-da47-4bbc-8f2c-3cf439c77cae",
   "metadata": {},
   "outputs": [
    {
     "data": {
      "text/plain": [
       "quantity\n",
       "1     8133\n",
       "2      361\n",
       "0       86\n",
       "3       76\n",
       "4       25\n",
       "5       12\n",
       "6       11\n",
       "7        2\n",
       "10       1\n",
       "Name: count, dtype: int64"
      ]
     },
     "execution_count": 12,
     "metadata": {},
     "output_type": "execute_result"
    }
   ],
   "source": [
    "df['quantity'].value_counts()"
   ]
  },
  {
   "cell_type": "code",
   "execution_count": 10,
   "id": "a0d44fd9-9121-44a4-8974-e35972cbb48a",
   "metadata": {},
   "outputs": [
    {
     "name": "stdout",
     "output_type": "stream",
     "text": [
      "0.0 1469.0\n"
     ]
    }
   ],
   "source": [
    "print(df['unit_price'].min(),df['unit_price'].max())"
   ]
  },
  {
   "cell_type": "code",
   "execution_count": 13,
   "id": "99a1065a-c550-44a4-aec5-31032b21a979",
   "metadata": {},
   "outputs": [
    {
     "name": "stdout",
     "output_type": "stream",
     "text": [
      "2024-10-06 00:04:08 2024-10-12 23:58:31\n"
     ]
    }
   ],
   "source": [
    "print(df['order_datetime'].min(),df['order_datetime'].max())"
   ]
  },
  {
   "cell_type": "code",
   "execution_count": 46,
   "id": "960e5129-b077-4efa-b42c-b04c8735f432",
   "metadata": {},
   "outputs": [
    {
     "data": {
      "text/plain": [
       "event\n",
       "browsed_page      693387\n",
       "google_search      48693\n",
       "youtube_search      1333\n",
       "Name: count, dtype: int64"
      ]
     },
     "execution_count": 46,
     "metadata": {},
     "output_type": "execute_result"
    }
   ],
   "source": [
    "df['event'].unique()\n",
    "df['event'].value_counts()"
   ]
  },
  {
   "cell_type": "code",
   "execution_count": 47,
   "id": "f97cb065-5456-4744-86f4-a60663673231",
   "metadata": {},
   "outputs": [
    {
     "data": {
      "text/plain": [
       "493"
      ]
     },
     "execution_count": 47,
     "metadata": {},
     "output_type": "execute_result"
    }
   ],
   "source": [
    "df['user_id'].nunique()"
   ]
  },
  {
   "cell_type": "code",
   "execution_count": 48,
   "id": "f031e740-c796-45e3-a363-45e33ad1c9d2",
   "metadata": {},
   "outputs": [
    {
     "data": {
      "text/plain": [
       "user_id\n",
       "7a55e8bf707f3eeba1f75f82325a3af8    25305\n",
       "11034de2ba43305eb6ef4b6642024b78    21743\n",
       "77fe55d0463233f39515d3923adecbc0    14314\n",
       "1885080ba74837d7a9bd9a76e813e619    12775\n",
       "272a108390cf3d06a7007508bd438d7d    11560\n",
       "                                    ...  \n",
       "7d2450075eff3f6a99baec61f695d35f        3\n",
       "e33e3944ba713839b94241ad295060c6        3\n",
       "d56d3349fef636ad8ed4109a2ddad393        2\n",
       "bbed200dacd93fc18ba852b4043060b4        2\n",
       "6bd34450400e3f83b2ba3dac5256b300        1\n",
       "Name: count, Length: 493, dtype: int64"
      ]
     },
     "execution_count": 48,
     "metadata": {},
     "output_type": "execute_result"
    }
   ],
   "source": [
    "df['user_id'].value_counts()"
   ]
  },
  {
   "cell_type": "code",
   "execution_count": 15,
   "id": "2b6b4c22-c54f-4343-8082-04c80e0cb496",
   "metadata": {},
   "outputs": [
    {
     "data": {
      "text/plain": [
       "category_1\n",
       "All Departments                   1045\n",
       "Grocery & Gourmet Food            1007\n",
       "Health                             676\n",
       "Beauty & Personal Care             535\n",
       "Home & Kitchen                     517\n",
       "Electronics                        298\n",
       "Toys & Games                       228\n",
       "Pet Supplies                       208\n",
       "Tools & Home Improvement           191\n",
       "Books                              151\n",
       "Industrial & Scientific            122\n",
       "Office Products                    120\n",
       "Sports & Outdoors                   84\n",
       "Movies & TV                         72\n",
       "Automotive Parts & Accessories      69\n",
       "Garden & Outdoor                    68\n",
       "Arts                                66\n",
       "Baby                                44\n",
       "Video Games                         34\n",
       "Amazon Devices                      24\n",
       "Appliances                          18\n",
       "CDs & Vinyl                         13\n",
       "Musical Instruments                 11\n",
       "Beauty                              10\n",
       "Electronics & Photo                 10\n",
       "Health & Personal Care               9\n",
       "Computers & Accessories              5\n",
       "Gift Cards                           5\n",
       "Kindle Store                         5\n",
       "Stationery & Office Supplies         3\n",
       "Premium Beauty                       3\n",
       "Grocery                              2\n",
       "DIY & Tools                          2\n",
       "Lighting                             2\n",
       "PC & Video Games                     1\n",
       "Name: count, dtype: int64"
      ]
     },
     "execution_count": 15,
     "metadata": {},
     "output_type": "execute_result"
    }
   ],
   "source": [
    "df['category_1'].value_counts()"
   ]
  },
  {
   "cell_type": "code",
   "execution_count": 18,
   "id": "b59cfed5-fa67-4c92-8177-48a3431336b0",
   "metadata": {},
   "outputs": [
    {
     "data": {
      "text/plain": [
       "35"
      ]
     },
     "execution_count": 18,
     "metadata": {},
     "output_type": "execute_result"
    }
   ],
   "source": [
    "df['category_1'].nunique()"
   ]
  },
  {
   "cell_type": "code",
   "execution_count": 19,
   "id": "ab4308af-d8d9-4994-bca3-efcec1425328",
   "metadata": {},
   "outputs": [
    {
     "data": {
      "text/plain": [
       "3545"
      ]
     },
     "execution_count": 19,
     "metadata": {},
     "output_type": "execute_result"
    }
   ],
   "source": [
    "df['brand'].nunique()"
   ]
  }
 ],
 "metadata": {
  "kernelspec": {
   "display_name": "Python 3 (ipykernel)",
   "language": "python",
   "name": "python3"
  },
  "language_info": {
   "codemirror_mode": {
    "name": "ipython",
    "version": 3
   },
   "file_extension": ".py",
   "mimetype": "text/x-python",
   "name": "python",
   "nbconvert_exporter": "python",
   "pygments_lexer": "ipython3",
   "version": "3.12.4"
  }
 },
 "nbformat": 4,
 "nbformat_minor": 5
}
