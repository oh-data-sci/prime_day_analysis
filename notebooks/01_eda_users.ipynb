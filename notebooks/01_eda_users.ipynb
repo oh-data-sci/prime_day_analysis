{
 "cells": [
  {
   "cell_type": "markdown",
   "id": "75503ac5-895a-4bf5-b850-d0b980bef93b",
   "metadata": {},
   "source": [
    "# data exploration - user behaviour\n",
    "\n",
    "we have three data files describing\n",
    "\n",
    "- user behaviour of non-amazon users\n",
    "- user behaviour of amazon users\n",
    "- amazon prime day purchases of (all) users\n",
    "\n",
    "we will start with investigation and exploration of the data sets before we move on to analysis and statistical modelling. \n",
    "this notebook describes analysis of the second file, that of the behviour of the amazoneusers\n"
   ]
  },
  {
   "cell_type": "code",
   "execution_count": 35,
   "id": "58cbfc50-7c4c-478d-b774-fc0cd0168397",
   "metadata": {},
   "outputs": [],
   "source": [
    "import pandas as pd"
   ]
  },
  {
   "cell_type": "code",
   "execution_count": 38,
   "id": "3a261548-d5e0-477b-b02a-d147d11ca87e",
   "metadata": {},
   "outputs": [],
   "source": [
    "BEHAVIOR_NON_FILEPATH='../data/amazon_user_behaviors.csv'"
   ]
  },
  {
   "cell_type": "code",
   "execution_count": 39,
   "id": "c0864dd5-bae7-484f-aa1d-efb62ef9c5c2",
   "metadata": {},
   "outputs": [],
   "source": [
    "column_data_types_dict={\n",
    "    'user_id'     : 'category',\n",
    "    'app_name'    : 'category',\n",
    "    'event'       : 'category',\n",
    "    'search_term' : 'str',\n",
    "    'title'       : 'str',\n",
    "    'page_url'    : 'str',\n",
    "    'domain'      : 'category',\n",
    "    'country'     : 'category',\n",
    "    'age_group'   : 'category',\n",
    "    'gender'      : 'category'\n",
    "}\n",
    "\n",
    "df = (\n",
    "    pd.read_csv(\n",
    "        BEHAVIOR_NON_FILEPATH,\n",
    "        parse_dates=['event_datetime'],\n",
    "        dtype=column_data_types_dict\n",
    "    )\n",
    ")"
   ]
  },
  {
   "cell_type": "code",
   "execution_count": 40,
   "id": "9c87e067-5258-406a-8ddd-e6fa1b5db7a0",
   "metadata": {},
   "outputs": [
    {
     "name": "stdout",
     "output_type": "stream",
     "text": [
      "<class 'pandas.core.frame.DataFrame'>\n",
      "RangeIndex: 743413 entries, 0 to 743412\n",
      "Data columns (total 11 columns):\n",
      " #   Column          Non-Null Count   Dtype         \n",
      "---  ------          --------------   -----         \n",
      " 0   user_id         743413 non-null  category      \n",
      " 1   app_name        743413 non-null  category      \n",
      " 2   event_datetime  743413 non-null  datetime64[ns]\n",
      " 3   event           743413 non-null  category      \n",
      " 4   search_term     743410 non-null  object        \n",
      " 5   title           718033 non-null  object        \n",
      " 6   page_url        743413 non-null  object        \n",
      " 7   domain          743413 non-null  category      \n",
      " 8   country         743413 non-null  category      \n",
      " 9   age_group       743413 non-null  category      \n",
      " 10  gender          743413 non-null  category      \n",
      "dtypes: category(7), datetime64[ns](1), object(3)\n",
      "memory usage: 29.7+ MB\n"
     ]
    }
   ],
   "source": [
    "df.info()"
   ]
  },
  {
   "cell_type": "code",
   "execution_count": 56,
   "id": "b5ad3dc7-0a09-401e-8fdf-7713821285b6",
   "metadata": {},
   "outputs": [
    {
     "data": {
      "text/plain": [
       "493"
      ]
     },
     "execution_count": 56,
     "metadata": {},
     "output_type": "execute_result"
    }
   ],
   "source": [
    "df['user_id'].nunique()"
   ]
  },
  {
   "cell_type": "code",
   "execution_count": null,
   "id": "0fef132c-4968-4631-bb72-f8558b6cc872",
   "metadata": {},
   "outputs": [],
   "source": []
  },
  {
   "cell_type": "code",
   "execution_count": 41,
   "id": "51d70bbf-80bf-42ec-8699-296de75e5385",
   "metadata": {},
   "outputs": [
    {
     "data": {
      "text/plain": [
       "['35_44', '25_34', '45_54', '18_24', '55_64', 'over_64']\n",
       "Categories (6, object): ['18_24', '25_34', '35_44', '45_54', '55_64', 'over_64']"
      ]
     },
     "execution_count": 41,
     "metadata": {},
     "output_type": "execute_result"
    }
   ],
   "source": [
    "df['age_group'].unique()"
   ]
  },
  {
   "cell_type": "code",
   "execution_count": 42,
   "id": "c870c1dc-7abb-45b3-82bc-442bc3f6060c",
   "metadata": {},
   "outputs": [
    {
     "data": {
      "text/plain": [
       "age_group\n",
       "25_34      244592\n",
       "35_44      210025\n",
       "45_54      147759\n",
       "55_64       75218\n",
       "18_24       54536\n",
       "over_64     11283\n",
       "Name: count, dtype: int64"
      ]
     },
     "execution_count": 42,
     "metadata": {},
     "output_type": "execute_result"
    }
   ],
   "source": [
    "df['age_group'].value_counts()"
   ]
  },
  {
   "cell_type": "code",
   "execution_count": 43,
   "id": "f64d0dc8-2f18-42ea-907e-56c36df131ff",
   "metadata": {},
   "outputs": [
    {
     "data": {
      "text/plain": [
       "['chrome']\n",
       "Categories (1, object): ['chrome']"
      ]
     },
     "execution_count": 43,
     "metadata": {},
     "output_type": "execute_result"
    }
   ],
   "source": [
    "df['app_name'].unique()"
   ]
  },
  {
   "cell_type": "code",
   "execution_count": 44,
   "id": "42dd5acd-e756-4235-84fa-230024771085",
   "metadata": {},
   "outputs": [
    {
     "data": {
      "text/plain": [
       "gender\n",
       "female        343788\n",
       "male          321002\n",
       "other          65285\n",
       "non_binary     13338\n",
       "Name: count, dtype: int64"
      ]
     },
     "execution_count": 44,
     "metadata": {},
     "output_type": "execute_result"
    }
   ],
   "source": [
    "df['gender'].unique()\n",
    "df['gender'].value_counts()"
   ]
  },
  {
   "cell_type": "code",
   "execution_count": 45,
   "id": "99a1065a-c550-44a4-aec5-31032b21a979",
   "metadata": {},
   "outputs": [
    {
     "name": "stdout",
     "output_type": "stream",
     "text": [
      "2024-10-06 00:00:00 2024-10-13 00:00:00\n"
     ]
    }
   ],
   "source": [
    "print(df['event_datetime'].min(),df['event_datetime'].max())"
   ]
  },
  {
   "cell_type": "code",
   "execution_count": 46,
   "id": "960e5129-b077-4efa-b42c-b04c8735f432",
   "metadata": {},
   "outputs": [
    {
     "data": {
      "text/plain": [
       "event\n",
       "browsed_page      693387\n",
       "google_search      48693\n",
       "youtube_search      1333\n",
       "Name: count, dtype: int64"
      ]
     },
     "execution_count": 46,
     "metadata": {},
     "output_type": "execute_result"
    }
   ],
   "source": [
    "df['event'].unique()\n",
    "df['event'].value_counts()"
   ]
  },
  {
   "cell_type": "code",
   "execution_count": 47,
   "id": "f97cb065-5456-4744-86f4-a60663673231",
   "metadata": {},
   "outputs": [
    {
     "data": {
      "text/plain": [
       "493"
      ]
     },
     "execution_count": 47,
     "metadata": {},
     "output_type": "execute_result"
    }
   ],
   "source": [
    "df['user_id'].nunique()"
   ]
  },
  {
   "cell_type": "code",
   "execution_count": 48,
   "id": "f031e740-c796-45e3-a363-45e33ad1c9d2",
   "metadata": {},
   "outputs": [
    {
     "data": {
      "text/plain": [
       "user_id\n",
       "7a55e8bf707f3eeba1f75f82325a3af8    25305\n",
       "11034de2ba43305eb6ef4b6642024b78    21743\n",
       "77fe55d0463233f39515d3923adecbc0    14314\n",
       "1885080ba74837d7a9bd9a76e813e619    12775\n",
       "272a108390cf3d06a7007508bd438d7d    11560\n",
       "                                    ...  \n",
       "7d2450075eff3f6a99baec61f695d35f        3\n",
       "e33e3944ba713839b94241ad295060c6        3\n",
       "d56d3349fef636ad8ed4109a2ddad393        2\n",
       "bbed200dacd93fc18ba852b4043060b4        2\n",
       "6bd34450400e3f83b2ba3dac5256b300        1\n",
       "Name: count, Length: 493, dtype: int64"
      ]
     },
     "execution_count": 48,
     "metadata": {},
     "output_type": "execute_result"
    }
   ],
   "source": [
    "df['user_id'].value_counts()"
   ]
  },
  {
   "cell_type": "code",
   "execution_count": 50,
   "id": "2b6b4c22-c54f-4343-8082-04c80e0cb496",
   "metadata": {},
   "outputs": [
    {
     "data": {
      "text/plain": [
       "country\n",
       "US    743413\n",
       "Name: count, dtype: int64"
      ]
     },
     "execution_count": 50,
     "metadata": {},
     "output_type": "execute_result"
    }
   ],
   "source": [
    "df['country'].value_counts()"
   ]
  },
  {
   "cell_type": "code",
   "execution_count": 55,
   "id": "eff61366-56f1-4e66-8803-2ad0f4ef7a17",
   "metadata": {},
   "outputs": [
    {
     "data": {
      "text/plain": [
       "356782    paypal debit double with rakuten cash back\n",
       "65518                             cara vintage tokyo\n",
       "154131                                    john 15 16\n",
       "239060                          detroit playoff game\n",
       "724881                    brick danger porn playlist\n",
       "Name: search_term, dtype: object"
      ]
     },
     "execution_count": 55,
     "metadata": {},
     "output_type": "execute_result"
    }
   ],
   "source": [
    "df[df['search_term']!='none']['search_term'].sample(5)"
   ]
  },
  {
   "cell_type": "code",
   "execution_count": null,
   "id": "9987b1a2-1f27-4afd-be89-899734bf0651",
   "metadata": {},
   "outputs": [],
   "source": []
  }
 ],
 "metadata": {
  "kernelspec": {
   "display_name": "Python 3 (ipykernel)",
   "language": "python",
   "name": "python3"
  },
  "language_info": {
   "codemirror_mode": {
    "name": "ipython",
    "version": 3
   },
   "file_extension": ".py",
   "mimetype": "text/x-python",
   "name": "python",
   "nbconvert_exporter": "python",
   "pygments_lexer": "ipython3",
   "version": "3.12.4"
  }
 },
 "nbformat": 4,
 "nbformat_minor": 5
}
