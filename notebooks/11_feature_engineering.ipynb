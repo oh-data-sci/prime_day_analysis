{
 "cells": [
  {
   "cell_type": "code",
   "execution_count": 7,
   "id": "61dcd7b5-9f97-4e9e-9962-ef1c956fb0e0",
   "metadata": {},
   "outputs": [],
   "source": [
    "import duckdb\n",
    "import pandas as pd\n",
    "import spacy"
   ]
  },
  {
   "cell_type": "code",
   "execution_count": 11,
   "id": "754419e4-a899-4f0b-ab99-4e667ffeef11",
   "metadata": {},
   "outputs": [],
   "source": [
    "# BEHAVIOR_NON_USER_FILEPATH='../data/amazon_non_users_behavior.csv'\n",
    "# BEHAVIOR_USER_FILEPATH='../data/amazon_user_behaviors.csv'\n",
    "DATABASE_FILEPATH='../data/prime.ddb'\n",
    "\n",
    "with duckdb.connect(DATABASE_FILEPATH) as con:\n",
    "    search_terms_df=con.sql(\"SELECT * FROM user_search_terms\").df()\n"
   ]
  },
  {
   "cell_type": "code",
   "execution_count": 12,
   "id": "e0c14b75-e861-461e-9e6c-d6ad7cc03991",
   "metadata": {},
   "outputs": [
    {
     "data": {
      "text/html": [
       "<div>\n",
       "<style scoped>\n",
       "    .dataframe tbody tr th:only-of-type {\n",
       "        vertical-align: middle;\n",
       "    }\n",
       "\n",
       "    .dataframe tbody tr th {\n",
       "        vertical-align: top;\n",
       "    }\n",
       "\n",
       "    .dataframe thead th {\n",
       "        text-align: right;\n",
       "    }\n",
       "</style>\n",
       "<table border=\"1\" class=\"dataframe\">\n",
       "  <thead>\n",
       "    <tr style=\"text-align: right;\">\n",
       "      <th></th>\n",
       "      <th>user_id</th>\n",
       "      <th>is_amazon_user</th>\n",
       "      <th>num_search_terms</th>\n",
       "      <th>all_searches_combined</th>\n",
       "    </tr>\n",
       "  </thead>\n",
       "  <tbody>\n",
       "    <tr>\n",
       "      <th>0</th>\n",
       "      <td>11c40ee2501d3c53b86621a32b5722c7</td>\n",
       "      <td>True</td>\n",
       "      <td>195.0</td>\n",
       "      <td>wifi pineapple, intercontinental los angeles, ...</td>\n",
       "    </tr>\n",
       "    <tr>\n",
       "      <th>1</th>\n",
       "      <td>193e47a3f2cf3ba2845721daba5ab926</td>\n",
       "      <td>True</td>\n",
       "      <td>0.0</td>\n",
       "      <td>None</td>\n",
       "    </tr>\n",
       "    <tr>\n",
       "      <th>2</th>\n",
       "      <td>2054b2d8d7f2361a900784cb0c81c9ae</td>\n",
       "      <td>True</td>\n",
       "      <td>59.0</td>\n",
       "      <td>true detective night country cast, follicle, t...</td>\n",
       "    </tr>\n",
       "    <tr>\n",
       "      <th>3</th>\n",
       "      <td>5791dd8dc8af32d090720fbcab9e05ea</td>\n",
       "      <td>True</td>\n",
       "      <td>0.0</td>\n",
       "      <td>None</td>\n",
       "    </tr>\n",
       "    <tr>\n",
       "      <th>4</th>\n",
       "      <td>23653fd9df7232749328fb18b47bfd38</td>\n",
       "      <td>True</td>\n",
       "      <td>76.0</td>\n",
       "      <td>olive garden coupons, olive garden coupons, ol...</td>\n",
       "    </tr>\n",
       "    <tr>\n",
       "      <th>...</th>\n",
       "      <td>...</td>\n",
       "      <td>...</td>\n",
       "      <td>...</td>\n",
       "      <td>...</td>\n",
       "    </tr>\n",
       "    <tr>\n",
       "      <th>988</th>\n",
       "      <td>87fadfd2a6963b90ab1d3493899dc3bd</td>\n",
       "      <td>False</td>\n",
       "      <td>117.0</td>\n",
       "      <td>蜡笔小新, 我的歌声里, wangyouyingli, 万有引力, for ya, 苦茶子,...</td>\n",
       "    </tr>\n",
       "    <tr>\n",
       "      <th>989</th>\n",
       "      <td>15da076ad600333d8dcce83b07317fe0</td>\n",
       "      <td>False</td>\n",
       "      <td>38.0</td>\n",
       "      <td>google search, google search, google search, g...</td>\n",
       "    </tr>\n",
       "    <tr>\n",
       "      <th>990</th>\n",
       "      <td>15dcc27ba63832a991b975de7f83ac91</td>\n",
       "      <td>False</td>\n",
       "      <td>28.0</td>\n",
       "      <td>vendoo extension, vendoo, era commons, era com...</td>\n",
       "    </tr>\n",
       "    <tr>\n",
       "      <th>991</th>\n",
       "      <td>72fbdc7dd6f23ccdaca2055ccdc2fd37</td>\n",
       "      <td>False</td>\n",
       "      <td>4.0</td>\n",
       "      <td>lemon turmeric kojic soap, lemon turmeric koji...</td>\n",
       "    </tr>\n",
       "    <tr>\n",
       "      <th>992</th>\n",
       "      <td>737eaaa6425737dc95de1a9be8a5ac04</td>\n",
       "      <td>False</td>\n",
       "      <td>0.0</td>\n",
       "      <td>None</td>\n",
       "    </tr>\n",
       "  </tbody>\n",
       "</table>\n",
       "<p>993 rows × 4 columns</p>\n",
       "</div>"
      ],
      "text/plain": [
       "                              user_id  is_amazon_user  num_search_terms  \\\n",
       "0    11c40ee2501d3c53b86621a32b5722c7            True             195.0   \n",
       "1    193e47a3f2cf3ba2845721daba5ab926            True               0.0   \n",
       "2    2054b2d8d7f2361a900784cb0c81c9ae            True              59.0   \n",
       "3    5791dd8dc8af32d090720fbcab9e05ea            True               0.0   \n",
       "4    23653fd9df7232749328fb18b47bfd38            True              76.0   \n",
       "..                                ...             ...               ...   \n",
       "988  87fadfd2a6963b90ab1d3493899dc3bd           False             117.0   \n",
       "989  15da076ad600333d8dcce83b07317fe0           False              38.0   \n",
       "990  15dcc27ba63832a991b975de7f83ac91           False              28.0   \n",
       "991  72fbdc7dd6f23ccdaca2055ccdc2fd37           False               4.0   \n",
       "992  737eaaa6425737dc95de1a9be8a5ac04           False               0.0   \n",
       "\n",
       "                                 all_searches_combined  \n",
       "0    wifi pineapple, intercontinental los angeles, ...  \n",
       "1                                                 None  \n",
       "2    true detective night country cast, follicle, t...  \n",
       "3                                                 None  \n",
       "4    olive garden coupons, olive garden coupons, ol...  \n",
       "..                                                 ...  \n",
       "988  蜡笔小新, 我的歌声里, wangyouyingli, 万有引力, for ya, 苦茶子,...  \n",
       "989  google search, google search, google search, g...  \n",
       "990  vendoo extension, vendoo, era commons, era com...  \n",
       "991  lemon turmeric kojic soap, lemon turmeric koji...  \n",
       "992                                               None  \n",
       "\n",
       "[993 rows x 4 columns]"
      ]
     },
     "execution_count": 12,
     "metadata": {},
     "output_type": "execute_result"
    }
   ],
   "source": [
    "search_terms_df"
   ]
  },
  {
   "cell_type": "code",
   "execution_count": 15,
   "id": "947ae3f8-e53c-454b-a4f9-5257d28d4a92",
   "metadata": {},
   "outputs": [],
   "source": [
    "# Load English tokenizer, tagger, parser and NER\n",
    "nlp = spacy.load(\"en_core_web_sm\")"
   ]
  },
  {
   "cell_type": "code",
   "execution_count": 18,
   "id": "e6f513aa-68bd-46a4-aa28-5e511ab6583d",
   "metadata": {},
   "outputs": [
    {
     "data": {
      "text/plain": [
       "[1, 2, 3, 5, 6, 7]"
      ]
     },
     "execution_count": 18,
     "metadata": {},
     "output_type": "execute_result"
    }
   ],
   "source": [
    "list(set(sorted([1,1,1,5,6,2,3,7,7])))"
   ]
  },
  {
   "cell_type": "code",
   "execution_count": 16,
   "id": "59951084-6e95-4aa9-bdac-3394d3e2ba4a",
   "metadata": {},
   "outputs": [],
   "source": [
    "def extract_verbs_from_searches(searches:str) -> list:\n",
    "    \"\"\"\n",
    "    given search terms as a concatenated string, this applies spacy's language model and\n",
    "    outputs a list of named entities found\n",
    "    \"\"\"\n",
    "    doc = nlp(searches)\n",
    "    return list(set(sorted([token.lemma_ for token in doc if token.pos_ == \"VERB\"])\n",
    "\n",
    "def extract_nouns_from_searches(searches:str) -> list:\n",
    "    \"\"\"\n",
    "    given search terms as a concatenated string, this applies spacy's language model and\n",
    "    outputs a list of nouns found\n",
    "    \"\"\"\n",
    "    doc = nlp(searches)\n",
    "    return list(set(sorted([chunk.text for chunk in doc.noun_chunks])))\n",
    "\n",
    "\n",
    "def extract_named_entities_from_searches(searches:str) -> list:\n",
    "    \"\"\"\n",
    "    given search terms as a concatenated string, this applies spacy's language model and\n",
    "    outputs a list of named entities found\n",
    "    \"\"\"\n",
    "    doc = nlp(searches)\n",
    "\n",
    "\n",
    "\n"
   ]
  },
  {
   "cell_type": "code",
   "execution_count": null,
   "id": "b0284bc1-2ba3-4eaf-af8b-745757190fcf",
   "metadata": {},
   "outputs": [],
   "source": [
    "search_terms_df.assign('nouns'=lambda x: extract_nouns_from_searches(x['all_searches_combined']))\n",
    "search_terms_df.assign('entities'=lambda x: extract_verbs_from_searches(x['all_searches_combined']))\n"
   ]
  },
  {
   "cell_type": "code",
   "execution_count": null,
   "id": "c3a9a77d-6f53-43a7-ae23-e6d597f5f121",
   "metadata": {},
   "outputs": [],
   "source": []
  },
  {
   "cell_type": "code",
   "execution_count": null,
   "id": "32bd0f93-e8b0-4cf1-975e-026cb044402d",
   "metadata": {},
   "outputs": [],
   "source": []
  }
 ],
 "metadata": {
  "kernelspec": {
   "display_name": "Python 3 (ipykernel)",
   "language": "python",
   "name": "python3"
  },
  "language_info": {
   "codemirror_mode": {
    "name": "ipython",
    "version": 3
   },
   "file_extension": ".py",
   "mimetype": "text/x-python",
   "name": "python",
   "nbconvert_exporter": "python",
   "pygments_lexer": "ipython3",
   "version": "3.12.4"
  }
 },
 "nbformat": 4,
 "nbformat_minor": 5
}
