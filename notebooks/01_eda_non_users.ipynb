{
 "cells": [
  {
   "cell_type": "markdown",
   "id": "75503ac5-895a-4bf5-b850-d0b980bef93b",
   "metadata": {},
   "source": [
    "# data exploration - non-user behaviour\n",
    "\n",
    "we have three data files describing\n",
    "\n",
    "- user behaviour of non-amazon users\n",
    "- user behaviour of amazon users\n",
    "- amazon prime day purchases of (all) users\n",
    "\n",
    "we will start with investigation and exploration of the data sets before we move on to analysis and statistical modelling. \n",
    "this notebook describes analysis of the first file\n"
   ]
  },
  {
   "cell_type": "code",
   "execution_count": 1,
   "id": "58cbfc50-7c4c-478d-b774-fc0cd0168397",
   "metadata": {},
   "outputs": [],
   "source": [
    "import pandas as pd"
   ]
  },
  {
   "cell_type": "code",
   "execution_count": 5,
   "id": "3a261548-d5e0-477b-b02a-d147d11ca87e",
   "metadata": {},
   "outputs": [],
   "source": [
    "BEHAVIOR_NON_FILEPATH='../data/amazon_non_users_behavior.csv'"
   ]
  },
  {
   "cell_type": "code",
   "execution_count": 29,
   "id": "c0864dd5-bae7-484f-aa1d-efb62ef9c5c2",
   "metadata": {},
   "outputs": [],
   "source": [
    "column_data_types_dict={\n",
    "    'user_id'     : 'category',\n",
    "    'app_name'    : 'category',\n",
    "    'event'       : 'category',\n",
    "    'search_term' : 'str',\n",
    "    'title'       : 'str',\n",
    "    'page_url'    : 'str',\n",
    "    'domain'      : 'category',\n",
    "    'country'     : 'category',\n",
    "    'age_group'   : 'category',\n",
    "    'gender'      : 'category'\n",
    "}\n",
    "\n",
    "df = (\n",
    "    pd.read_csv(\n",
    "        BEHAVIOR_NON_FILEPATH,\n",
    "        parse_dates=['event_datetime'],\n",
    "        dtype=column_data_types_dict\n",
    "    )\n",
    ")"
   ]
  },
  {
   "cell_type": "code",
   "execution_count": 30,
   "id": "9c87e067-5258-406a-8ddd-e6fa1b5db7a0",
   "metadata": {},
   "outputs": [
    {
     "name": "stdout",
     "output_type": "stream",
     "text": [
      "<class 'pandas.core.frame.DataFrame'>\n",
      "RangeIndex: 453544 entries, 0 to 453543\n",
      "Data columns (total 11 columns):\n",
      " #   Column          Non-Null Count   Dtype         \n",
      "---  ------          --------------   -----         \n",
      " 0   user_id         453544 non-null  category      \n",
      " 1   app_name        453544 non-null  category      \n",
      " 2   event_datetime  453544 non-null  datetime64[ns]\n",
      " 3   event           453544 non-null  category      \n",
      " 4   search_term     453543 non-null  object        \n",
      " 5   title           441610 non-null  object        \n",
      " 6   page_url        453544 non-null  object        \n",
      " 7   domain          453544 non-null  category      \n",
      " 8   country         453544 non-null  category      \n",
      " 9   age_group       453544 non-null  category      \n",
      " 10  gender          453544 non-null  category      \n",
      "dtypes: category(7), datetime64[ns](1), object(3)\n",
      "memory usage: 18.4+ MB\n"
     ]
    }
   ],
   "source": [
    "df.info()"
   ]
  },
  {
   "cell_type": "code",
   "execution_count": 17,
   "id": "51d70bbf-80bf-42ec-8699-296de75e5385",
   "metadata": {},
   "outputs": [
    {
     "data": {
      "text/plain": [
       "['25_34', '18_24', '35_44', '45_54', 'over_64', '55_64', '16_17']\n",
       "Categories (7, object): ['18_24', '25_34', '35_44', '45_54', '55_64', 'over_64', '16_17']"
      ]
     },
     "execution_count": 17,
     "metadata": {},
     "output_type": "execute_result"
    }
   ],
   "source": [
    "df['age_group'].unique()"
   ]
  },
  {
   "cell_type": "code",
   "execution_count": 18,
   "id": "c870c1dc-7abb-45b3-82bc-442bc3f6060c",
   "metadata": {},
   "outputs": [
    {
     "data": {
      "text/plain": [
       "age_group\n",
       "25_34      177084\n",
       "35_44      108372\n",
       "18_24       88387\n",
       "45_54       55238\n",
       "55_64       21960\n",
       "over_64      2393\n",
       "16_17         110\n",
       "Name: count, dtype: int64"
      ]
     },
     "execution_count": 18,
     "metadata": {},
     "output_type": "execute_result"
    }
   ],
   "source": [
    "df['age_group'].value_counts()"
   ]
  },
  {
   "cell_type": "code",
   "execution_count": 19,
   "id": "f64d0dc8-2f18-42ea-907e-56c36df131ff",
   "metadata": {},
   "outputs": [
    {
     "data": {
      "text/plain": [
       "['chrome']\n",
       "Categories (1, object): ['chrome']"
      ]
     },
     "execution_count": 19,
     "metadata": {},
     "output_type": "execute_result"
    }
   ],
   "source": [
    "df['app_name'].unique()"
   ]
  },
  {
   "cell_type": "code",
   "execution_count": 23,
   "id": "42dd5acd-e756-4235-84fa-230024771085",
   "metadata": {},
   "outputs": [
    {
     "data": {
      "text/plain": [
       "gender\n",
       "male          234272\n",
       "female        186284\n",
       "other          20115\n",
       "non_binary     12873\n",
       "Name: count, dtype: int64"
      ]
     },
     "execution_count": 23,
     "metadata": {},
     "output_type": "execute_result"
    }
   ],
   "source": [
    "df['gender'].unique()\n",
    "df['gender'].value_counts()"
   ]
  },
  {
   "cell_type": "code",
   "execution_count": 25,
   "id": "99a1065a-c550-44a4-aec5-31032b21a979",
   "metadata": {},
   "outputs": [
    {
     "name": "stdout",
     "output_type": "stream",
     "text": [
      "2024-10-06 00:00:01 2024-10-12 23:59:58\n"
     ]
    }
   ],
   "source": [
    "print(df['event_datetime'].min(),df['event_datetime'].max())"
   ]
  },
  {
   "cell_type": "code",
   "execution_count": 27,
   "id": "960e5129-b077-4efa-b42c-b04c8735f432",
   "metadata": {},
   "outputs": [
    {
     "data": {
      "text/plain": [
       "event\n",
       "browsed_page      401802\n",
       "google_search      50711\n",
       "youtube_search      1031\n",
       "Name: count, dtype: int64"
      ]
     },
     "execution_count": 27,
     "metadata": {},
     "output_type": "execute_result"
    }
   ],
   "source": [
    "df['event'].unique()\n",
    "df['event'].value_counts()"
   ]
  },
  {
   "cell_type": "code",
   "execution_count": 31,
   "id": "f97cb065-5456-4744-86f4-a60663673231",
   "metadata": {},
   "outputs": [
    {
     "data": {
      "text/plain": [
       "19568"
      ]
     },
     "execution_count": 31,
     "metadata": {},
     "output_type": "execute_result"
    }
   ],
   "source": [
    "df['search_term'].nunique()"
   ]
  },
  {
   "cell_type": "code",
   "execution_count": 32,
   "id": "f031e740-c796-45e3-a363-45e33ad1c9d2",
   "metadata": {},
   "outputs": [
    {
     "data": {
      "text/plain": [
       "user_id\n",
       "529a9f462aae3ccf9de63bdbd7c503fd    11236\n",
       "803fb86286c03dabb6d581111236a6bb     8136\n",
       "0f65f77063c03e02ba722296cf96cc33     6933\n",
       "743a8f73b6223a06a5b3e9bc64045310     6399\n",
       "508a803deb9533519927b42af514d821     6362\n",
       "                                    ...  \n",
       "53e3d60e3cf5300a8d85685f1b89917f        2\n",
       "8086cdb2707d3b6ebcdf86ddc377f66d        1\n",
       "5a8cfdb64aac3ee790a6351402d47fa3        1\n",
       "82d48b5b826237aba3f6be5efdb98f0a        1\n",
       "07b1d6a5192f360f97ff086ce9eedd98        1\n",
       "Name: count, Length: 500, dtype: int64"
      ]
     },
     "execution_count": 32,
     "metadata": {},
     "output_type": "execute_result"
    }
   ],
   "source": [
    "df['user_id'].value_counts()"
   ]
  },
  {
   "cell_type": "code",
   "execution_count": null,
   "id": "2b6b4c22-c54f-4343-8082-04c80e0cb496",
   "metadata": {},
   "outputs": [],
   "source": [
    "from ydata_profiling import ProfileReport\n",
    "profile = yp.ProfileReport(df)\n",
    "profile.to_file('../notes/eda/eda_report_non_users.html')"
   ]
  }
 ],
 "metadata": {
  "kernelspec": {
   "display_name": "Python 3 (ipykernel)",
   "language": "python",
   "name": "python3"
  },
  "language_info": {
   "codemirror_mode": {
    "name": "ipython",
    "version": 3
   },
   "file_extension": ".py",
   "mimetype": "text/x-python",
   "name": "python",
   "nbconvert_exporter": "python",
   "pygments_lexer": "ipython3",
   "version": "3.12.4"
  }
 },
 "nbformat": 4,
 "nbformat_minor": 5
}
